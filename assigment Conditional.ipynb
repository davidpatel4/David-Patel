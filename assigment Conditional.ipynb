{
 "cells": [
  {
   "cell_type": "markdown",
   "metadata": {},
   "source": [
    "# 1.Given two numbers, print their sum. However, if the two numbers are the same, return double their sum.\n",
    "\n"
   ]
  },
  {
   "cell_type": "code",
   "execution_count": 2,
   "metadata": {},
   "outputs": [
    {
     "name": "stdout",
     "output_type": "stream",
     "text": [
      "800\n"
     ]
    }
   ],
   "source": [
    "num1 = 200\n",
    "num2 = 200\n",
    "\n",
    "if num1 == num2:\n",
    "    print((num1 + num2) * 2)\n",
    "else:\n",
    "    print(num1+num2)"
   ]
  },
  {
   "cell_type": "markdown",
   "metadata": {},
   "source": [
    "# 2.Given a Cost price and Selling price of a product,write program to calculate profit or loss\n",
    "\n",
    "\n"
   ]
  },
  {
   "cell_type": "code",
   "execution_count": 4,
   "metadata": {},
   "outputs": [
    {
     "name": "stdout",
     "output_type": "stream",
     "text": [
      "no profit , no loss\n"
     ]
    }
   ],
   "source": [
    "cost_price = 200\n",
    "selling_price = 200\n",
    "\n",
    "if selling_price > cost_price:\n",
    "    print(\"profit of:\", selling_price - cost_price)\n",
    "elif cost_price > selling_price:\n",
    "    print(\"loss of:\", cost_price - selling_price)\n",
    "else:\n",
    "    print(\"no profit , no loss\")"
   ]
  },
  {
   "cell_type": "markdown",
   "metadata": {},
   "source": [
    " 3.Write a program to input basic salary of an employee and calculate gross salary according to given conditions. Basic Salary <= 10000 : HRA = 20%, DA = 80% Basic Salary is between 10001 to 20000 : HRA = 25%, DA = 90% Basic Salary >= 20001 : HRA = 30%, DA = 95%\n"
   ]
  },
  {
   "cell_type": "code",
   "execution_count": 7,
   "metadata": {},
   "outputs": [
    {
     "name": "stdout",
     "output_type": "stream",
     "text": [
      "16000.0\n"
     ]
    }
   ],
   "source": [
    "basic_salary = 8000\n",
    "\n",
    "if basic_salary <= 10000:\n",
    "    hra = (basic_salary * 20) /100\n",
    "    da = (basic_salary * 80) /100\n",
    "elif basic_salary <= 20000:\n",
    "    hra = (basic_salary * 25) /100\n",
    "    da = (basic_salary * 90) /100\n",
    "else:\n",
    "    hra = (basic_salary * 30) /100\n",
    "    da = (basic_salary * 95) /100\n",
    "    \n",
    "gross_sal = basic_salary + hra + da\n",
    "print(gross_sal)"
   ]
  },
  {
   "cell_type": "markdown",
   "metadata": {},
   "source": [
    "#  4.Write a program to check if given year is leap year or not.\n",
    "\n",
    "# Leap year : A year is said to be leap year, if the year is exactly divisible by 4 but and not divisible by 100"
   ]
  },
  {
   "cell_type": "code",
   "execution_count": 9,
   "metadata": {},
   "outputs": [
    {
     "name": "stdout",
     "output_type": "stream",
     "text": [
      "leap year\n"
     ]
    }
   ],
   "source": [
    "year = 2000\n",
    "\n",
    "if year % 4 ==0 and year % 100 != 0:\n",
    "    print(\"leap year\")\n",
    "elif year % 4 ==0 and year % 100 == 0 and year % 400 ==0:\n",
    "    print(\"leap year\")\n",
    "else:\n",
    "    print(\"no leap\")"
   ]
  },
  {
   "cell_type": "markdown",
   "metadata": {},
   "source": [
    "# 5.Write a program to check whether triangle is equilateral, scalene or isosceles A triangle is said Equilateral Triangle, if all its sides are equal. If a, b, c are three sides of triangle. Then, the triangle is equilateral only if a == b == c.\n",
    "\n",
    "# A triangle is said Isosceles Triangle, if its two sides are equal. If a, b, c are three sides of triangle. Then, the     triangle is isosceles if either a == b or a == c or b == c.\n",
    "\n",
    "A triangle is said Scalene Triangle, if none of its sides are equal. "
   ]
  },
  {
   "cell_type": "code",
   "execution_count": 11,
   "metadata": {},
   "outputs": [
    {
     "name": "stdout",
     "output_type": "stream",
     "text": [
      "equilateral\n"
     ]
    }
   ],
   "source": [
    "angel_a = 60\n",
    "angel_b = 60\n",
    "angel_c = 60\n",
    "\n",
    "if angel_a == angel_b == angel_c:\n",
    "    print(\"equilateral\")\n",
    "elif angel_a == angel_b or angel_a == angel_c or angel_b == angel_c:\n",
    "    print(\"isosceles\")\n",
    "else:\n",
    "    print(\"scalene\")"
   ]
  }
 ],
 "metadata": {
  "kernelspec": {
   "display_name": "Python 3",
   "language": "python",
   "name": "python3"
  },
  "language_info": {
   "codemirror_mode": {
    "name": "ipython",
    "version": 3
   },
   "file_extension": ".py",
   "mimetype": "text/x-python",
   "name": "python",
   "nbconvert_exporter": "python",
   "pygments_lexer": "ipython3",
   "version": "3.7.4"
  }
 },
 "nbformat": 4,
 "nbformat_minor": 2
}
