{
 "cells": [
  {
   "cell_type": "code",
   "execution_count": 5,
   "metadata": {},
   "outputs": [
    {
     "name": "stdout",
     "output_type": "stream",
     "text": [
      "consonent\n"
     ]
    }
   ],
   "source": [
    "char = 'b'\n",
    "vow = ['a','e','i','o','u']\n",
    "\n",
    "if char in vow:\n",
    "    print('its vowel')\n",
    "else:\n",
    "    print('consonent')\n",
    "    \n",
    "\n"
   ]
  },
  {
   "cell_type": "code",
   "execution_count": 10,
   "metadata": {},
   "outputs": [
    {
     "name": "stdout",
     "output_type": "stream",
     "text": [
      "pass\n"
     ]
    }
   ],
   "source": [
    "m=380\n",
    "t_m=500\n",
    " #40%=> pass else fail\n",
    "if m/t_m*100>40:\n",
    "    print(\"pass\")\n",
    "else:\n",
    "    print(\"fail\")\n"
   ]
  },
  {
   "cell_type": "code",
   "execution_count": 11,
   "metadata": {},
   "outputs": [
    {
     "ename": "SyntaxError",
     "evalue": "invalid syntax (<ipython-input-11-29e154cc6432>, line 1)",
     "output_type": "error",
     "traceback": [
      "\u001b[1;36m  File \u001b[1;32m\"<ipython-input-11-29e154cc6432>\"\u001b[1;36m, line \u001b[1;32m1\u001b[0m\n\u001b[1;33m    num = 45:\u001b[0m\n\u001b[1;37m            ^\u001b[0m\n\u001b[1;31mSyntaxError\u001b[0m\u001b[1;31m:\u001b[0m invalid syntax\n"
     ]
    }
   ],
   "source": [
    "num = 45:\n"
   ]
  },
  {
   "cell_type": "code",
   "execution_count": 12,
   "metadata": {},
   "outputs": [
    {
     "name": "stdout",
     "output_type": "stream",
     "text": [
      "{2000: 2, 500: 3, 100: 0, 50: 1}\n"
     ]
    }
   ],
   "source": [
    "currencies = [2000, 500, 100, 50, 10]\n",
    "note_count = {}\n",
    "amount = 5560\n",
    "note_count[2000] = 5560//2000\n",
    "amount = amount - note_count[2000]*2000\n",
    "note_count [500] = amount//500\n",
    "amount = amount - note_count[500]*500\n",
    "note_count [100] = amount//100\n",
    "amount = amount - note_count[100]*100\n",
    "note_count [50] = amount//50\n",
    "print(note_count)\n"
   ]
  },
  {
   "cell_type": "code",
   "execution_count": null,
   "metadata": {},
   "outputs": [],
   "source": []
  },
  {
   "cell_type": "code",
   "execution_count": 13,
   "metadata": {},
   "outputs": [
    {
     "ename": "IndentationError",
     "evalue": "unexpected indent (<ipython-input-13-e5bdcb892024>, line 4)",
     "output_type": "error",
     "traceback": [
      "\u001b[1;36m  File \u001b[1;32m\"<ipython-input-13-e5bdcb892024>\"\u001b[1;36m, line \u001b[1;32m4\u001b[0m\n\u001b[1;33m    print(\"2000's are :\",a)\u001b[0m\n\u001b[1;37m    ^\u001b[0m\n\u001b[1;31mIndentationError\u001b[0m\u001b[1;31m:\u001b[0m unexpected indent\n"
     ]
    }
   ],
   "source": [
    "currencies = 2000,500,100,50,10\n",
    "amount = 5560\n",
    "a = amount // 2000\n",
    "    print(\"2000's are :\",a)\n",
    "b = (amount-a*2000) //500\n",
    "    print(\"500's are :\",b)\n",
    "c = (amount-(a*2000+b*500))//100\n",
    "    print(\"100's are:\",c)\n",
    "d = (amount-(a*2000+b*500+c*100)//50\n",
    "    print(\"50's are:\",d)\n",
    "e = (amount-(a*2000+b*500+c*100+d*50)//10\n",
    "    print(\"10's are:\",e)\n"
   ]
  },
  {
   "cell_type": "code",
   "execution_count": 15,
   "metadata": {},
   "outputs": [
    {
     "name": "stdout",
     "output_type": "stream",
     "text": [
      "total amount =  1800.0\n"
     ]
    }
   ],
   "source": [
    "bill_amount=1500\n",
    "rating=2\n",
    "if rating==1:\n",
    "    total_amount = bill_amount * 1.10\n",
    "elif rating==2:\n",
    "    total_amount = bill_amount * 1.20\n",
    "elif rating==3:\n",
    "    total_amount = bill_amount * 1.30\n",
    "elif rating==4:\n",
    "    total_amount = bill_amount * 1.40\n",
    "elif rating==5:\n",
    "    total_amount = bill_amount * 1.50\n",
    "else:\n",
    "    total_amount = bill_amount\n",
    "print(\"total amount = \",total_amount)\n"
   ]
  },
  {
   "cell_type": "code",
   "execution_count": null,
   "metadata": {},
   "outputs": [],
   "source": []
  }
 ],
 "metadata": {
  "kernelspec": {
   "display_name": "Python 3",
   "language": "python",
   "name": "python3"
  },
  "language_info": {
   "codemirror_mode": {
    "name": "ipython",
    "version": 3
   },
   "file_extension": ".py",
   "mimetype": "text/x-python",
   "name": "python",
   "nbconvert_exporter": "python",
   "pygments_lexer": "ipython3",
   "version": "3.7.4"
  }
 },
 "nbformat": 4,
 "nbformat_minor": 2
}
