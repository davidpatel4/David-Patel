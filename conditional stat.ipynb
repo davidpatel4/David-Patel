{
 "cells": [
  {
   "cell_type": "code",
   "execution_count": 4,
   "metadata": {},
   "outputs": [
    {
     "ename": "IndentationError",
     "evalue": "unexpected indent (<ipython-input-4-37c147ff857e>, line 9)",
     "output_type": "error",
     "traceback": [
      "\u001b[1;36m  File \u001b[1;32m\"<ipython-input-4-37c147ff857e>\"\u001b[1;36m, line \u001b[1;32m9\u001b[0m\n\u001b[1;33m    print(\"num1 is greater\")\u001b[0m\n\u001b[1;37m    ^\u001b[0m\n\u001b[1;31mIndentationError\u001b[0m\u001b[1;31m:\u001b[0m unexpected indent\n"
     ]
    }
   ],
   "source": [
    "num1 = 100\n",
    "num2 = 200\n",
    "\n",
    "# num1 is greater\n",
    "# num2 is greater\n",
    "# both are equal\n",
    "\n",
    "# if [condition] => true/false\n",
    "    print(\"num1 is greater\")"
   ]
  },
  {
   "cell_type": "code",
   "execution_count": 8,
   "metadata": {},
   "outputs": [
    {
     "name": "stdout",
     "output_type": "stream",
     "text": [
      "both are equal\n"
     ]
    }
   ],
   "source": [
    "num1 = 100\n",
    "num2 = 100\n",
    "\n",
    "if num1<num2:\n",
    "    print(\"num1 is greater\")\n",
    "elif num1>num2:\n",
    "    print(\"num2 is greater\")\n",
    "else:\n",
    "    print(\"both are equal\")"
   ]
  },
  {
   "cell_type": "code",
   "execution_count": 12,
   "metadata": {},
   "outputs": [
    {
     "name": "stdout",
     "output_type": "stream",
     "text": [
      "vowel\n"
     ]
    }
   ],
   "source": [
    "char = 'a'\n",
    "# \"vowel\"/\"consonent\"\n",
    "if char in 'a e o u i':\n",
    "    print(\"vowel\")\n",
    "else:\n",
    "    print(\"consonent\")"
   ]
  },
  {
   "cell_type": "code",
   "execution_count": 14,
   "metadata": {},
   "outputs": [
    {
     "name": "stdout",
     "output_type": "stream",
     "text": [
      "list is empty\n"
     ]
    }
   ],
   "source": [
    "l = [10,20,30]\n",
    "if l:\n",
    "    print(\"list is empty\")\n",
    "else:\n",
    "    print(\"list is not empty\")"
   ]
  },
  {
   "cell_type": "code",
   "execution_count": 17,
   "metadata": {},
   "outputs": [
    {
     "name": "stdout",
     "output_type": "stream",
     "text": [
      "z is not present\n"
     ]
    }
   ],
   "source": [
    "s = \"python sample string\"\n",
    "if 'z' in s:\n",
    "    print(\"z is present\")\n",
    "else:\n",
    "    print(\"z is not present\")"
   ]
  },
  {
   "cell_type": "code",
   "execution_count": 22,
   "metadata": {},
   "outputs": [
    {
     "name": "stdout",
     "output_type": "stream",
     "text": [
      "pass\n"
     ]
    }
   ],
   "source": [
    "marks_obtained = 380\n",
    "total_marks = 500\n",
    "# pass/fail\n",
    "# 40% => pass else fail\n",
    "\n",
    "percentage = (marks_obtained / total_marks) * 100\n",
    "passing_per = 40\n",
    "\n",
    "if percentage > passing_per:\n",
    "    print(\"pass\")\n",
    "else:\n",
    "    print(\"fail\")"
   ]
  },
  {
   "cell_type": "code",
   "execution_count": 27,
   "metadata": {},
   "outputs": [
    {
     "name": "stdout",
     "output_type": "stream",
     "text": [
      "odd\n"
     ]
    }
   ],
   "source": [
    "num1 = 45\n",
    "\n",
    "if num1 % 2 ==0:\n",
    "    print(\"even\")\n",
    "else:\n",
    "    print(\"odd\")"
   ]
  },
  {
   "cell_type": "code",
   "execution_count": null,
   "metadata": {},
   "outputs": [],
   "source": [
    "currencies = 2000,500, 100,50,10\n",
    "amount = 5560\n"
   ]
  },
  {
   "cell_type": "code",
   "execution_count": 30,
   "metadata": {},
   "outputs": [
    {
     "name": "stdout",
     "output_type": "stream",
     "text": [
      "note of 2000 are 2\n",
      "note of 500 are 3\n",
      "can not issue nptes of 100\n",
      "note of 50 are 1\n",
      "note of 10 are 1\n"
     ]
    }
   ],
   "source": [
    "amount = 5560\n",
    "if amount >= 2000:\n",
    "    print(\"note of 2000 are\", amount//2000)\n",
    "    amount = amount % 2000\n",
    "else:\n",
    "    print(\"can not issue nptes of 2000\")\n",
    "    \n",
    "    \n",
    "if amount >= 500:\n",
    "    print(\"note of 500 are\", amount//500)\n",
    "    amount = amount % 500\n",
    "else:\n",
    "    print(\"can not issue nptes of 500\")\n",
    "\n",
    "if amount >= 100:\n",
    "    print(\"note of 100 are\", amount//100)\n",
    "    amount = amount % 100\n",
    "else:\n",
    "    print(\"can not issue nptes of 100\")\n",
    "\n",
    "if amount >= 50:\n",
    "    print(\"note of 50 are\", amount//50)\n",
    "    amount = amount % 50\n",
    "else:\n",
    "    print(\"can not issue nptes of 50\")\n",
    "    \n",
    "if amount >= 10:\n",
    "    print(\"note of 10 are\", amount//10)\n",
    "    amount = amount % 10\n",
    "else:\n",
    "    print(\"can not issue nptes of 10\")\n"
   ]
  },
  {
   "cell_type": "code",
   "execution_count": null,
   "metadata": {},
   "outputs": [],
   "source": [
    "rating = (1-5)\n",
    "tip% of total bill\n",
    "    1 10\n",
    "    2 20\n",
    "    3 30\n",
    "    4 40\n",
    "    5 50\n",
    "    "
   ]
  },
  {
   "cell_type": "code",
   "execution_count": 34,
   "metadata": {},
   "outputs": [
    {
     "name": "stdout",
     "output_type": "stream",
     "text": [
      "1200.0\n"
     ]
    }
   ],
   "source": [
    "rating = 2 \n",
    "bill_amt =1000\n",
    "tip = bill_amt * (rating *10) /100\n",
    "final_amt = bill_amt + tip\n",
    "print(final_amt)"
   ]
  },
  {
   "cell_type": "code",
   "execution_count": 35,
   "metadata": {},
   "outputs": [
    {
     "name": "stdout",
     "output_type": "stream",
     "text": [
      "java\n"
     ]
    }
   ],
   "source": [
    "if \"python\" :\n",
    "    print(\"java\")\n",
    "else:\n",
    "    print(\"python\")"
   ]
  },
  {
   "cell_type": "code",
   "execution_count": null,
   "metadata": {},
   "outputs": [],
   "source": []
  }
 ],
 "metadata": {
  "kernelspec": {
   "display_name": "Python 3",
   "language": "python",
   "name": "python3"
  },
  "language_info": {
   "codemirror_mode": {
    "name": "ipython",
    "version": 3
   },
   "file_extension": ".py",
   "mimetype": "text/x-python",
   "name": "python",
   "nbconvert_exporter": "python",
   "pygments_lexer": "ipython3",
   "version": "3.7.4"
  }
 },
 "nbformat": 4,
 "nbformat_minor": 2
}
